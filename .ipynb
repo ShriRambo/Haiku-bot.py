{
 "cells": [
  {
   "cell_type": "markdown",
   "metadata": {},
   "source": [
    "# Initial imports"
   ]
  },
  {
   "cell_type": "code",
   "execution_count": 2,
   "metadata": {},
   "outputs": [],
   "source": [
    "import numpy as np\n",
    "import re\n",
    "import json"
   ]
  },
  {
   "cell_type": "code",
   "execution_count": null,
   "metadata": {},
   "outputs": [],
   "source": []
  },
  {
   "cell_type": "code",
   "execution_count": null,
   "metadata": {},
   "outputs": [],
   "source": []
  },
  {
   "cell_type": "markdown",
   "metadata": {},
   "source": [
    "# Reading Data"
   ]
  },
  {
   "cell_type": "code",
   "execution_count": 3,
   "metadata": {},
   "outputs": [],
   "source": [
    "file = open(\"./Data/Matsuo Basho's Haikus.json\",'r')"
   ]
  },
  {
   "cell_type": "code",
   "execution_count": 4,
   "metadata": {},
   "outputs": [],
   "source": [
    "data = json.load(file)"
   ]
  },
  {
   "cell_type": "code",
   "execution_count": 176,
   "metadata": {},
   "outputs": [],
   "source": [
    "data[\"Poems\"];"
   ]
  },
  {
   "cell_type": "code",
   "execution_count": null,
   "metadata": {},
   "outputs": [],
   "source": []
  },
  {
   "cell_type": "markdown",
   "metadata": {},
   "source": [
    "# Markov Chain 1:\n",
    "Learning probabilities letter by letter. Each poem is a different text sample"
   ]
  },
  {
   "cell_type": "markdown",
   "metadata": {},
   "source": [
    "## Learning probs"
   ]
  },
  {
   "cell_type": "code",
   "execution_count": 140,
   "metadata": {
    "code_folding": []
   },
   "outputs": [],
   "source": [
    "probs = {}\n",
    "Inits = []\n",
    "order = 5\n",
    "for poem in data[\"Poems\"]:\n",
    "    n = len(poem)\n",
    "    Inits.extend([poem[0:order]])\n",
    "    for i in range(0,n-order):\n",
    "        ngram = poem[i:i+order];\n",
    "        nchar = poem[i+order];\n",
    "        try:\n",
    "            probs[ngram] += nchar\n",
    "        except KeyError:\n",
    "            probs[ngram] = nchar"
   ]
  },
  {
   "cell_type": "markdown",
   "metadata": {},
   "source": [
    "## Generating a Haiku"
   ]
  },
  {
   "cell_type": "markdown",
   "metadata": {},
   "source": [
    "### Trial 1"
   ]
  },
  {
   "cell_type": "code",
   "execution_count": 109,
   "metadata": {},
   "outputs": [],
   "source": [
    "def getHaiku():\n",
    "    ngram = np.random.choice(Inits)\n",
    "    poem = ngram\n",
    "    nchar = 200\n",
    "    \n",
    "    for i in range(0,nchar):\n",
    "        try:\n",
    "            ch = np.random.choice(list(probs[ngram]))\n",
    "        except KeyError:\n",
    "            continue\n",
    "        else:\n",
    "            poem = poem + ch\n",
    "            ngram = poem[-order:]\n",
    "        \n",
    "    return poem"
   ]
  },
  {
   "cell_type": "code",
   "execution_count": 119,
   "metadata": {},
   "outputs": [
    {
     "name": "stdout",
     "output_type": "stream",
     "text": [
      "Temple,\n",
      "peach blossoms;\n",
      "a man treading to men a continuing dumplings in -\n",
      "Splashed\n",
      "A hard winter leeks \n",
      "newly wash,\n",
      "there nobody else travels\n",
      "autumn sky\n",
      "    the gravemound, \n",
      "in wind.\n",
      "\n",
      "\n"
     ]
    }
   ],
   "source": [
    "print(getHaiku())"
   ]
  },
  {
   "cell_type": "code",
   "execution_count": null,
   "metadata": {},
   "outputs": [],
   "source": []
  },
  {
   "cell_type": "markdown",
   "metadata": {},
   "source": [
    "# Markov Chain 2:\n",
    "Learning as a whole\n",
    "\n",
    "Better"
   ]
  },
  {
   "cell_type": "code",
   "execution_count": 162,
   "metadata": {
    "code_folding": []
   },
   "outputs": [],
   "source": [
    "probs = {}\n",
    "allPoem = ''.join( data[\"Poems\"])\n",
    "order = 4\n",
    "n = len(allPoem)\n",
    "Inits = [poem[0:order] for poem in data[\"Poems\"]]\n",
    "for i in range(0,n-order):\n",
    "    ngram = allPoem[i:i+order];\n",
    "    nchar = allPoem[i+order];\n",
    "    try:\n",
    "        probs[ngram] += nchar\n",
    "    except KeyError:\n",
    "        probs[ngram] = nchar"
   ]
  },
  {
   "cell_type": "code",
   "execution_count": null,
   "metadata": {},
   "outputs": [],
   "source": []
  },
  {
   "cell_type": "markdown",
   "metadata": {},
   "source": [
    "## Generating a Haiku"
   ]
  },
  {
   "cell_type": "markdown",
   "metadata": {},
   "source": [
    "### Trial 1"
   ]
  },
  {
   "cell_type": "code",
   "execution_count": 163,
   "metadata": {},
   "outputs": [],
   "source": [
    "def getHaiku():\n",
    "    ngram = np.random.choice(Inits)\n",
    "    poem = ngram\n",
    "    nchar = 200\n",
    "    \n",
    "    for i in range(0,nchar):\n",
    "        try:\n",
    "            ch = np.random.choice(list(probs[ngram]))\n",
    "        except KeyError:\n",
    "            continue\n",
    "        else:\n",
    "            poem = poem + ch\n",
    "            ngram = poem[-order:]\n",
    "        \n",
    "    return poem"
   ]
  },
  {
   "cell_type": "code",
   "execution_count": 175,
   "metadata": {},
   "outputs": [
    {
     "name": "stdout",
     "output_type": "stream",
     "text": [
      "The swing.\n",
      "\n",
      "you comingle house\n",
      "    the water's empty helmet, \n",
      "and they begin to men alive the winter jar\n",
      "    into the room.\n",
      "\n",
      "Coolness of road on horse\n",
      "besided life is heron's cry\n",
      "Staying sun\n",
      "\n",
      "None cow sho\n"
     ]
    }
   ],
   "source": [
    "print(getHaiku())"
   ]
  },
  {
   "cell_type": "markdown",
   "metadata": {},
   "source": [
    "# Some generated poems  \n",
    "  \n",
    "    .A caterpillar    still greens--       above the skylark singing.\n",
    "    . A caterpillar still not thinking to want a rain shelter\n",
    "    . On New Year's empty helmet,  a cricket of the house near my pillow.\n",
    "    . The sea darkens; the daffodil  bending at a post\n",
    "    . This first snow  falls from the water jar  on the year ending rain\n",
    "    . Moonlight--   getting long-  yet not a but\n",
    "    . On Buddha's child see loneliness of winter grasses\n",
    "    . Coolness of road on horse besided life is heron's cry"
   ]
  },
  {
   "cell_type": "code",
   "execution_count": null,
   "metadata": {},
   "outputs": [],
   "source": []
  }
 ],
 "metadata": {
  "kernelspec": {
   "display_name": "Python 3",
   "language": "python",
   "name": "python3"
  },
  "language_info": {
   "codemirror_mode": {
    "name": "ipython",
    "version": 3
   },
   "file_extension": ".py",
   "mimetype": "text/x-python",
   "name": "python",
   "nbconvert_exporter": "python",
   "pygments_lexer": "ipython3",
   "version": "3.7.0"
  },
  "toc": {
   "base_numbering": 1,
   "nav_menu": {
    "height": "151px",
    "width": "194px"
   },
   "number_sections": true,
   "sideBar": true,
   "skip_h1_title": false,
   "title_cell": "Table of Contents",
   "title_sidebar": "Contents",
   "toc_cell": false,
   "toc_position": {
    "height": "calc(100% - 180px)",
    "left": "10px",
    "top": "150px",
    "width": "273.188px"
   },
   "toc_section_display": true,
   "toc_window_display": true
  }
 },
 "nbformat": 4,
 "nbformat_minor": 2
}
