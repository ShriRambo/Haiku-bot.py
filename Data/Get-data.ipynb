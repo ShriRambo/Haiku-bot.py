{
 "cells": [
  {
   "cell_type": "markdown",
   "metadata": {},
   "source": [
    "# Web Scraping to get Matsuo Basho's Haikus"
   ]
  },
  {
   "cell_type": "markdown",
   "metadata": {},
   "source": [
    "## Initial Imports"
   ]
  },
  {
   "cell_type": "code",
   "execution_count": 1,
   "metadata": {},
   "outputs": [],
   "source": [
    "import requests\n",
    "import urllib.request\n",
    "import time\n",
    "from bs4 import BeautifulSoup\n",
    "import re\n",
    "import json"
   ]
  },
  {
   "cell_type": "markdown",
   "metadata": {},
   "source": [
    "## Getting 114 Haikus of Matsuo Basho from www.poemhunter.com"
   ]
  },
  {
   "cell_type": "code",
   "execution_count": null,
   "metadata": {},
   "outputs": [],
   "source": []
  },
  {
   "cell_type": "code",
   "execution_count": 2,
   "metadata": {},
   "outputs": [],
   "source": [
    "# Getting titles and links to those poems\n",
    "domain =  'https://www.poemhunter.com'\n",
    "ppages = '/matsuo-basho/poems/page-{}/?a=a&l=3&y='\n",
    "Titles = []\n",
    "links = []\n",
    "\n",
    "for i in range(1,4):\n",
    "    url = domain + ppages.format(i)\n",
    "    response = requests.get(url)\n",
    "    soup = BeautifulSoup(response.text, \"html.parser\")\n",
    "    \n",
    "    alist = soup.findAll('table',{\"class\": \"poems\"})[0].findAll('a')\n",
    "    for a in alist:\n",
    "        Titles.append(a.contents[0] )\n",
    "        links.append(a[\"href\"])"
   ]
  },
  {
   "cell_type": "code",
   "execution_count": 3,
   "metadata": {},
   "outputs": [],
   "source": [
    "#Getting poems\n",
    "Poems = []\n",
    "\n",
    "for link in links:\n",
    "    url = domain + link\n",
    "    response = requests.get(url)\n",
    "    soup = BeautifulSoup(response.text, \"html.parser\")\n",
    "    poem_ = soup.findAll('div', {\"class\":\"KonaBody\"})[0].findAll('p')[0]\n",
    "    \n",
    "    for br in poem_.find_all(\"br\"):\n",
    "        br.replace_with(\"\\n\")\n",
    "    poem = poem_.text\n",
    "    Poems.append(poem)"
   ]
  },
  {
   "cell_type": "code",
   "execution_count": 4,
   "metadata": {},
   "outputs": [],
   "source": [
    "# Processing titles\n",
    "\n",
    "# Removing weird characters\n",
    "for i in range(0,len(Titles)):\n",
    "    Titles[i] = Titles[i].strip().replace('â\\x80\\x99','\\'').replace('â\\x80\\x93','-').replace('â\\x80\\x94','-')"
   ]
  },
  {
   "cell_type": "code",
   "execution_count": 5,
   "metadata": {},
   "outputs": [],
   "source": [
    "# Processing poems\n",
    "\n",
    "# Removing weird characters\n",
    "# and translated by lines\n",
    "for i in range(0,len(Poems)):\n",
    "    Poems[i] = re.sub(\"Translated.*?($|\\n)\",\"\",Poems[i])\n",
    "    Poems[i] = Poems[i].strip().replace('â\\x80\\x99','\\'').replace('â\\x80\\x93','-').replace('â\\x80\\x94','-')"
   ]
  },
  {
   "cell_type": "code",
   "execution_count": 6,
   "metadata": {},
   "outputs": [],
   "source": [
    "id = -1"
   ]
  },
  {
   "cell_type": "code",
   "execution_count": 79,
   "metadata": {
    "scrolled": false
   },
   "outputs": [
    {
     "name": "stdout",
     "output_type": "stream",
     "text": [
      "72 )  The Morning Glory Also :-\n",
      "\n",
      " The morning glory also\n",
      "turns out\n",
      "    not to be my friend.\n"
     ]
    }
   ],
   "source": [
    "# Viewing poems\n",
    "id = id + 1\n",
    "print(id,') ',Titles[id],':-\\n\\n',Poems[id])\n"
   ]
  },
  {
   "cell_type": "code",
   "execution_count": 81,
   "metadata": {},
   "outputs": [],
   "source": [
    "# Saving in file for further editing\n",
    "file = open(\"Haikus.txt\",\"w\")\n",
    "for i,poem in enumerate(Poems):\n",
    "    title = '{}\\n'.format(i) # + Titles[i] + '\\n'\n",
    "    file.write(title+poem+'\\n\\n')\n",
    "file.close()"
   ]
  },
  {
   "cell_type": "code",
   "execution_count": null,
   "metadata": {},
   "outputs": [],
   "source": []
  },
  {
   "cell_type": "markdown",
   "metadata": {},
   "source": [
    "## After editing the text file manually"
   ]
  },
  {
   "cell_type": "code",
   "execution_count": 86,
   "metadata": {},
   "outputs": [],
   "source": [
    "file = open(\"Matsuo Basho's Haikus.txt\",'r')"
   ]
  },
  {
   "cell_type": "code",
   "execution_count": 87,
   "metadata": {},
   "outputs": [],
   "source": [
    "haiku = ''\n",
    "Haikus = []\n",
    "for line in file:\n",
    "    haiku = haiku + line\n",
    "    if line == '\\n':\n",
    "        Haikus.append(haiku)\n",
    "        haiku = ''"
   ]
  },
  {
   "cell_type": "code",
   "execution_count": 94,
   "metadata": {},
   "outputs": [
    {
     "data": {
      "text/plain": [
       "127"
      ]
     },
     "execution_count": 94,
     "metadata": {},
     "output_type": "execute_result"
    }
   ],
   "source": [
    "len(Haikus)"
   ]
  },
  {
   "cell_type": "code",
   "execution_count": 95,
   "metadata": {},
   "outputs": [],
   "source": [
    "data = {}\n",
    "data[\"author\"] = \"Matsuo Basho\"\n",
    "data[\"Poems\"] = Haikus"
   ]
  },
  {
   "cell_type": "code",
   "execution_count": 102,
   "metadata": {},
   "outputs": [],
   "source": [
    "file = open(\"Matsuo Basho's Haikus.json\",'w')\n",
    "json.dump(data,file)\n",
    "file.close()"
   ]
  },
  {
   "cell_type": "code",
   "execution_count": null,
   "metadata": {},
   "outputs": [],
   "source": []
  },
  {
   "cell_type": "markdown",
   "metadata": {},
   "source": [
    "# Mearging 2 files"
   ]
  },
  {
   "cell_type": "code",
   "execution_count": 54,
   "metadata": {},
   "outputs": [],
   "source": [
    "file = open(\"./Matsuo Basho's Haikus.json\",'r')\n",
    "data1 = json.load(file)"
   ]
  },
  {
   "cell_type": "code",
   "execution_count": 55,
   "metadata": {},
   "outputs": [],
   "source": [
    "file = open(\"./db.json\",'r')\n",
    "data2 = json.load(file)"
   ]
  },
  {
   "cell_type": "code",
   "execution_count": 57,
   "metadata": {},
   "outputs": [],
   "source": [
    "iss = data2['issa']\n",
    "bas = data2['basho']\n",
    "bus = data2['buson']"
   ]
  },
  {
   "cell_type": "code",
   "execution_count": 58,
   "metadata": {},
   "outputs": [],
   "source": [
    "basAppend = [ poem.strip() for poem in data1['Poems'] ]"
   ]
  },
  {
   "cell_type": "code",
   "execution_count": 59,
   "metadata": {},
   "outputs": [],
   "source": [
    "bas['haikus'] = bas['haikus'] + basAppend"
   ]
  },
  {
   "cell_type": "code",
   "execution_count": 60,
   "metadata": {},
   "outputs": [],
   "source": [
    "data = [iss, bas, bus]\n",
    "Dict = {}\n",
    "Dict['Data'] = data"
   ]
  },
  {
   "cell_type": "code",
   "execution_count": 61,
   "metadata": {},
   "outputs": [],
   "source": [
    "file = open('HaikuDB.json','w')\n",
    "json.dump(Dict,file)\n",
    "file.close()"
   ]
  },
  {
   "cell_type": "code",
   "execution_count": 53,
   "metadata": {},
   "outputs": [
    {
     "name": "stdout",
     "output_type": "stream",
     "text": [
      "['None is travelling\\nHere along this way but I,\\nThis autumn evening.', 'The first day of the year:\\nthoughts come - and there is loneliness;\\nthe autumn dusk is here.', 'An old pond\\nA frog jumps in -\\nSplash!', 'Old dark sleepy pool... \\nquick unexpected\\nfrog\\nGoes plop! Watersplash!', \"Lightening -\\nHeron's cry\\nStabs the darkness\", 'Clouds come from time to time -\\nand bring to men a chance to rest\\nfrom looking at the moon.', \"In the cicada's cry\\nThere's no sign that can foretell\\nHow soon it must die.\", \"Poverty's child -\\nhe starts to grind the rice,\\nand gazes at the moon.\", \"Won't you come and see\\nloneliness? Just one leaf\\nfrom the kiri tree.\", 'Temple bells die out.\\nThe fragrant blossoms remain.\\nA perfect evening!', 'Ballet in the air ...\\ntwin butterflies\\nuntil, twice white\\nThey meet, they mate', 'Black cloudbank broken\\nscatters in the\\nnight ... Now see\\nMoon-lighted mountains!', 'Seek on high bare trails\\nsky-reflecting\\nviolets...\\nMountain-top jewels', 'For a lovely bowl\\nlet us arrange these\\nflowers...\\nSince there is no rice', 'Now that eyes of hawks\\nin dusky night\\nare darkened... \\nChirping of the quails', \"April's air stirs in\\nwillow-leaves... \\na butterfly\\nFloats and balances\", 'In the sea-surf edge\\nmingling with\\nbright small shells ..\\nBush-clover petals', 'The river\\nGathering may rains\\nfrom cold streamlets\\nfor the sea... \\nMurmuring Mogami', 'White cloud of mist\\nabove white\\ncherry-blossoms... \\nDawn-shining mountains', 'Twilight whippoorwill... \\nwhistle on,\\nsweet deepener\\nOf dark loneliness', 'Mountain-rose petals\\nfalling, falling,\\nfalling now... \\nWaterfall music', 'Ah me! I am one\\nwho spends his little\\nbreakfast\\nMorning-glory gazing', 'Seas are wild tonight... \\nstretching over\\nSado Island\\nSilent clouds of stars', 'Why so scrawny, cat?\\nstarving for fat fish\\nor mice... \\nOr backyard love?', 'Dewdrop, let me cleanse\\nin your brief\\nsweet waters... \\nThese dark hands of life', 'Glorious the moon... \\ntherefore our thanks\\ndark clouds\\nCome to rest our necks', 'Under cherry-trees\\nsoup, the salad,\\nfish and all... \\nSeasoned with petals', 'Too curious flower\\nwatching us pass,\\nmet death... \\nOur hungry donkey', 'Cloud of cherry-bloom... \\ntolling twilight\\nbell...  Temple\\nUeno? Asakura?', 'Must springtime fade?\\nthen cry all birds... \\nand fishes\\nCold pale eyes pour tears', \"Such utter silence!\\neven the crickets'\\nsinging... \\nMuffled by hot rocks\", 'Swallow in the dusk... \\nspare my little\\nbuzzing friends\\nAmong the flowers', 'Reply:\\nBright red pepper-pod... \\nit needs but shiny\\nwings and look... \\nDarting dragon-fly!', 'Wake! The sky is light!\\nlet us to the road\\nagain... \\nCompanion butterfly!', 'Silent the old town... \\nthe scent of flowers\\nfloating... \\nAnd evening bell', 'Camellia-petal\\nfell in silent dawn... \\nspilling\\nA water-jewel', 'In the twilight rain\\nthese brilliant-hued\\nhibiscus... \\nA lovely sunset', 'Lady butterfly\\nperfumes her wings\\nby floating\\nOver the orchid', 'Now the swinging bridge\\nis quieted\\nwith creepers... \\nLike our tendrilled life', 'The sea darkening... \\noh voices of the\\nwild ducks\\nCrying, whirling, white', 'Nine times arising\\nto see the moon... \\nwhose solemn pace\\nMarks only midnight yet', 'Here, where a thousand\\ncaptains swore grand\\nconquest...  Tall\\nGrass their monument', 'Now in sad autumn\\nas I take my\\ndarkening path... \\nA solitary bird', 'Will we meet again\\nhere at your\\nflowering grave... \\nTwo white butterflies?', 'Dry cheerful cricket\\nchirping, keeps\\nthe autumn gay... \\nContemptuous of frost', 'First white snow of fall\\njust enough to bend\\nthe leaves\\nOf faded daffodils', 'Carven gods long gone... \\ndead leaves alone\\nforegather\\nOn the temple porch', 'Cold first winter rain... \\npoor monkey,\\nyou too could use\\nA little woven cape', 'No oil to read by... \\nI am off to bed\\nbut ah!... \\nMy moonlit pillow', \"This snowy morning\\nthat black crow\\nI hate so much... \\nBut he's beautiful!\", 'If there were fragrance\\nthese heavy snow-\\nflakes settling... \\nLilies on the rocks', 'See: surviving suns\\nvisit the ancestral\\ngrave... \\nBearded, with bent canes', 'Death-song:\\nFever-felled half-way,\\nmy dreams arose\\nTo march again... \\nInto a hollow land', ['Now the swinging bridge\\nis quieted with creepers\\nlike our tendrilled life', 'By the old temple,\\npeach blossoms;\\na man treading rice.', 'All the day long-\\nyet not long enough for the skylark,\\nsinging, singing.', 'Cedar umbrellas, off\\nto Mount Yoshimo for\\nthe cherry blossoms.', 'Temple bells die out.\\nThe fragrant blossoms remain.\\nA perfect evening!', 'Flower\\nunder harvest sun - stranger\\nTo bird, butterfly.', 'With a warbler for \\na soul, it sleeps peacefully, \\nthis mountain willo', \"souls' festival\\ntoday also there is smoke\\nfrom the crematory\", \"The shallows -\\na crane's thighs splashed\\nin cool waves\", 'the whole family\\nall with white hair and canes\\nvisiting graves', \"Won't you come and see\\nloneliness? Just one leaf\\nfrom the kiri tree.\", 'The she cat -\\nGrown thin\\nFrom love and barley.', 'the warbler sings\\namong new shoots of bamboo\\nof coming old age', \"On the white poppy,\\na butterfly's torn wing\\nis a keepsake\", 'Tremble, oh my gravemound, \\nin time my cries will be \\nonly this autumn wind', 'Scarecrow in the hillock\\nPaddy field --\\nHow unaware! How useful.', 'Sleep on horseback,\\nThe far moon in a continuing dream,\\nSteam of roasting tea.', 'This first fallen snow \\nis barely enough to bend \\nthe jonquil leaves', 'Wrapping dumplings in \\nbamboo leaves, with one finger \\nshe tidies her hair', 'Eaten alive by\\nlice and fleas -- now the horse\\nbeside my pillow pees', 'The winter leeks\\nHave been washed white --\\nHow cold it is!', 'Behind this door\\nNow buried in deep grass\\nA different generation will celebrate\\nThe Festival of Dolls.', 'The clouds come and go, \\nproviding a rest for all \\nthe moon viewers', 'The petals tremble\\non the yellow mountain rose -\\nroar of the rapids', \"On Buddha's deathday, \\nwrinkled tough old hands pray - \\nthe prayer beads' sound\", 'From time to time\\nThe clouds give rest\\nTo the moon beholders..', 'The winter storm\\nHid in the bamboo grove\\nAnd quieted away.', 'The summer grasses\\nAll that remains\\nOf brave soldiers dreams', 'With every gust of wind,\\nthe butterfly changes its place\\non the willow.', 'How wild the sea is, \\nand over Sado Island, \\nthe River of Heaven', 'husking rice\\na child squints up\\nto view the moon', 'Petals of the mountain rose\\nFall now and then,\\nTo the sound of the waterfall?', 'On the cow shed\\nA hard winter rain;\\nCock crowing.', 'Crossing long fields,\\nfrozen in its saddle,\\nmy shadow creeps by', 'shaking the grave\\nmy weeping voice\\nautumn wind', 'under my tree-roof\\nslanting lines of april rain\\nseparate to drops', \"Year's end, all \\ncorners of this \\nfloating world, swept.\", 'The morning glories \\nbloom, securing the gate \\nin the old fence', 'The first snow\\nthe leaves of the daffodil\\nbending together', \"Passing through the world\\nIndeed this is just\\nSogi's rain shelter\", 'Even that old horse\\nis something to see this\\nsnow-covered morning', 'Long conversations \\nbeside blooming irises - \\njoys of life on the road', \"The butterfly is perfuming\\nIt's wings in the scent\\nOf the orchid.\", \"On New Year's Day \\neach thought a loneliness\\nas winter dusk descends\", \"Ungraciously, under \\na great soldier's empty helmet, \\na cricket sings\", 'The passing spring\\nBirds mourn,\\nFishes weep\\nWith tearful eyes.', 'I like to wash,\\nthe dust of this world\\nIn the droplets of dew.', 'Morning and evening\\nSomeone waits at Matsushima!\\nOne-sided love', 'The banana tree \\nblown by winds pours raindrops \\ninto the bucket', 'On this road\\nwhere nobody else travels\\nautumn nightfall', 'Winter seclusion - \\nsitting propped against \\nthe same worn post', \"I'm a wanderer \\nso let that be my name - \\nthe first winter rain\", 'It is with awe\\nThat I beheld\\nFresh leaves, green leaves,\\nBright in the sun.', 'Deep into autumn\\nand this caterpillar\\nstill not a butterfly', 'Winter downpour - \\neven the monkey \\nneeds a raincoat.', 'Cold as it was\\nWe felt secure sleeping together\\nIn the same room.', 'Clouds -\\na chance to dodge\\nmoonviewing.', 'But for a woodpecker \\ntapping at a post, no sound \\nat all in the house', 'scent of plum blossoms\\non the misty mountain path\\na big rising sun', 'None is travelling\\nHere along this way but I,\\nThis autumn evening.', 'The first day of the year:\\nthoughts come - and there is loneliness;\\nthe autumn dusk is here.', 'An old pond\\nA frog jumps in -\\nSplash!', \"Lightening -\\nHeron's cry\\nStabs the darkness\", 'Clouds come from time to time -\\nand bring to men a chance to rest\\nfrom looking at the moon.', \"In the cicada's cry\\nThere's no sign that can foretell\\nHow soon it must die.\", \"Poverty's child -\\nhe starts to grind the rice,\\nand gazes at the moon.\", \"Won't you come and see\\nloneliness? Just one leaf\\nfrom the kiri tree.\", 'Temple bells die out.\\nThe fragrant blossoms remain.\\nA perfect evening!', 'This old village--\\nnot a single house\\n    without persimmon trees.', 'Staying at an inn\\nwhere prostitutes are also sleeping--\\n    bush clover and the moon.', 'Taking a nap,\\nfeet planted\\n    against a cool wall.', \"When the winter chrysanthemums go,\\nthere's nothing to write about\\n    but radishes.\", 'Winter garden,\\nthe moon thinned to a thread,\\n    insects singing.', 'Midfield,\\nattached to nothing,\\n    the skylark singing.', 'Heat waves shimmering\\none or two inches\\n    above the dead grass.', 'Wrapping the rice cakes,\\nwith one hand\\n    she fingers back her hair.', \"Teeth sensitive to the sand\\nin salad greens--\\n    I'm getting old.\", 'bush-clover flowers -\\nthey sway but do not drop\\ntheir beads of dew', 'As they begin to rise again\\nChrysanthemums faintly smell,\\nAfter the flooding rain', 'Moonlight slanting\\nthrough the bamboo grove;\\n    a cuckoo crying.', 'The morning glory also\\nturns out\\n    not to be my friend.', 'A man, infirm\\nWith age, slowly sucks\\nA fish bone.', \"The squid seller's call\\nmingles with the voice\\n    of the cuckoo.\", \"The dragonfly\\ncan't quite land\\n    on that blade of grass.\", 'How admirable!\\nto see lightning and not think\\n    life is fleeting.', \"Spring rain\\nleaking through the roof\\n    dripping from the wasps' nest.\", 'a cuckoo cries\\nand through a thicket of bamboo\\nthe late moon shines', 'Fleas, lice,\\na horse peeing\\n    near my pillow.', 'First winter rain--\\neven the monkey\\n    seems to want a raincoat.', 'A wild sea-\\nIn the distance over Sado\\nThe Milky Way', 'The oak tree:\\nnot interested\\n    in cherry blossoms.', \"Stillness--\\nthe cicada's cry\\n    drills into the rocks.\", \"What fish feel,\\nbirds feel, I don't know--\\n    the year ending.\", \"you make the fire\\nand I'll show you something wonderful:\\na big ball of snow!\", 'Bush warbler:\\nshits on the rice cakes\\n    on the porch rail.', 'Coolness of the melons\\nflecked with mud\\n    in the morning dew.', 'Cold night: the wild duck,\\nsick, falls from the sky\\n    and sleeps awhile.', 'Blowing stones\\nalong the road on Mount Asama,\\n    the autumn wind.', 'a strange flower\\nfor birds and butterflies\\nthe autumn sky', 'A cold rain starting\\nAnd no hat --\\nSo?', 'A field of cotton--\\nas if the moon\\n    had flowered.', 'Chilling autumn rains \\ncurtain Mount Fuji, then make it \\nmore beautiful to see', 'At a hermitage:\\n    A cool fall night--\\ngetting dinner, we peeled\\n    eggplants, cucumbers.', 'First snow\\nfalling\\n    on the half-finished bridge.', 'A weathered skeleton \\nin windy fields of memory, \\npiercing like a knife', 'Winter solitude--\\nin a world of one color\\n    the sound of wind.', 'Spring: \\nA hill without a name \\nVeiled in morning mist.', 'The beginning of autumn: \\nSea and emerald paddy \\nBoth the same green.', 'The winds of autumn \\nBlow: yet still green \\nThe chestnut husks.', \"A flash of lightning: \\nInto the gloom \\nGoes the heron's cry.\", 'Bitter-tasting ice - \\nJust enough to wet the throat \\nOf a sewer rat.', 'First day of spring--\\nI keep thinking about\\n    the end of autumn.', 'Sick on my journey, \\nonly my dreams will wander \\nthese desolate moors', 'A cicada shell;\\nit sang itself\\n    utterly away.', 'Awake at night--\\nthe sound of the water jar\\n    cracking in the cold.', \"old pond.....\\na frog leaps in\\nwater's sound\", \"Don't imitate me;\\nit's as boring\\n    as the two halves of a melon.\", 'A caterpillar,\\nthis deep in fall--\\n    still not a butterfly.', \"A monk sips morning tea,\\nit's quiet,\\n    the chrysanthemum's flowering.\", 'Waking in the night; \\nthe lamp is low, \\nthe oil freezing.', 'It has rained enough \\nto turn the stubble on the field \\nblack.', 'Winter rain \\nfalls on the cow-shed; \\na cock crows.', 'The leeks \\nnewly washed white,- \\nhow cold it is!', 'The sea darkens; \\nthe voices of the wild ducks \\nare faintly white.', 'Ill on a journey; \\nmy dreams wander \\nover a withered moor.', 'Autumn moonlight--\\n  a worm digs silently\\n    into the chestnut.', 'A snowy morning--\\nby myself,\\n    chewing on dried salmon.'], ['Now the swinging bridge\\nis quieted with creepers\\nlike our tendrilled life', 'By the old temple,\\npeach blossoms;\\na man treading rice.', 'All the day long-\\nyet not long enough for the skylark,\\nsinging, singing.', 'Cedar umbrellas, off\\nto Mount Yoshimo for\\nthe cherry blossoms.', 'Temple bells die out.\\nThe fragrant blossoms remain.\\nA perfect evening!', 'Flower\\nunder harvest sun - stranger\\nTo bird, butterfly.', 'With a warbler for \\na soul, it sleeps peacefully, \\nthis mountain willo', \"souls' festival\\ntoday also there is smoke\\nfrom the crematory\", \"The shallows -\\na crane's thighs splashed\\nin cool waves\", 'the whole family\\nall with white hair and canes\\nvisiting graves', \"Won't you come and see\\nloneliness? Just one leaf\\nfrom the kiri tree.\", 'The she cat -\\nGrown thin\\nFrom love and barley.', 'the warbler sings\\namong new shoots of bamboo\\nof coming old age', \"On the white poppy,\\na butterfly's torn wing\\nis a keepsake\", 'Tremble, oh my gravemound, \\nin time my cries will be \\nonly this autumn wind', 'Scarecrow in the hillock\\nPaddy field --\\nHow unaware! How useful.', 'Sleep on horseback,\\nThe far moon in a continuing dream,\\nSteam of roasting tea.', 'This first fallen snow \\nis barely enough to bend \\nthe jonquil leaves', 'Wrapping dumplings in \\nbamboo leaves, with one finger \\nshe tidies her hair', 'Eaten alive by\\nlice and fleas -- now the horse\\nbeside my pillow pees', 'The winter leeks\\nHave been washed white --\\nHow cold it is!', 'Behind this door\\nNow buried in deep grass\\nA different generation will celebrate\\nThe Festival of Dolls.', 'The clouds come and go, \\nproviding a rest for all \\nthe moon viewers', 'The petals tremble\\non the yellow mountain rose -\\nroar of the rapids', \"On Buddha's deathday, \\nwrinkled tough old hands pray - \\nthe prayer beads' sound\", 'From time to time\\nThe clouds give rest\\nTo the moon beholders..', 'The winter storm\\nHid in the bamboo grove\\nAnd quieted away.', 'The summer grasses\\nAll that remains\\nOf brave soldiers dreams', 'With every gust of wind,\\nthe butterfly changes its place\\non the willow.', 'How wild the sea is, \\nand over Sado Island, \\nthe River of Heaven', 'husking rice\\na child squints up\\nto view the moon', 'Petals of the mountain rose\\nFall now and then,\\nTo the sound of the waterfall?', 'On the cow shed\\nA hard winter rain;\\nCock crowing.', 'Crossing long fields,\\nfrozen in its saddle,\\nmy shadow creeps by', 'shaking the grave\\nmy weeping voice\\nautumn wind', 'under my tree-roof\\nslanting lines of april rain\\nseparate to drops', \"Year's end, all \\ncorners of this \\nfloating world, swept.\", 'The morning glories \\nbloom, securing the gate \\nin the old fence', 'The first snow\\nthe leaves of the daffodil\\nbending together', \"Passing through the world\\nIndeed this is just\\nSogi's rain shelter\", 'Even that old horse\\nis something to see this\\nsnow-covered morning', 'Long conversations \\nbeside blooming irises - \\njoys of life on the road', \"The butterfly is perfuming\\nIt's wings in the scent\\nOf the orchid.\", \"On New Year's Day \\neach thought a loneliness\\nas winter dusk descends\", \"Ungraciously, under \\na great soldier's empty helmet, \\na cricket sings\", 'The passing spring\\nBirds mourn,\\nFishes weep\\nWith tearful eyes.', 'I like to wash,\\nthe dust of this world\\nIn the droplets of dew.', 'Morning and evening\\nSomeone waits at Matsushima!\\nOne-sided love', 'The banana tree \\nblown by winds pours raindrops \\ninto the bucket', 'On this road\\nwhere nobody else travels\\nautumn nightfall', 'Winter seclusion - \\nsitting propped against \\nthe same worn post', \"I'm a wanderer \\nso let that be my name - \\nthe first winter rain\", 'It is with awe\\nThat I beheld\\nFresh leaves, green leaves,\\nBright in the sun.', 'Deep into autumn\\nand this caterpillar\\nstill not a butterfly', 'Winter downpour - \\neven the monkey \\nneeds a raincoat.', 'Cold as it was\\nWe felt secure sleeping together\\nIn the same room.', 'Clouds -\\na chance to dodge\\nmoonviewing.', 'But for a woodpecker \\ntapping at a post, no sound \\nat all in the house', 'scent of plum blossoms\\non the misty mountain path\\na big rising sun', 'None is travelling\\nHere along this way but I,\\nThis autumn evening.', 'The first day of the year:\\nthoughts come - and there is loneliness;\\nthe autumn dusk is here.', 'An old pond\\nA frog jumps in -\\nSplash!', \"Lightening -\\nHeron's cry\\nStabs the darkness\", 'Clouds come from time to time -\\nand bring to men a chance to rest\\nfrom looking at the moon.', \"In the cicada's cry\\nThere's no sign that can foretell\\nHow soon it must die.\", \"Poverty's child -\\nhe starts to grind the rice,\\nand gazes at the moon.\", \"Won't you come and see\\nloneliness? Just one leaf\\nfrom the kiri tree.\", 'Temple bells die out.\\nThe fragrant blossoms remain.\\nA perfect evening!', 'This old village--\\nnot a single house\\n    without persimmon trees.', 'Staying at an inn\\nwhere prostitutes are also sleeping--\\n    bush clover and the moon.', 'Taking a nap,\\nfeet planted\\n    against a cool wall.', \"When the winter chrysanthemums go,\\nthere's nothing to write about\\n    but radishes.\", 'Winter garden,\\nthe moon thinned to a thread,\\n    insects singing.', 'Midfield,\\nattached to nothing,\\n    the skylark singing.', 'Heat waves shimmering\\none or two inches\\n    above the dead grass.', 'Wrapping the rice cakes,\\nwith one hand\\n    she fingers back her hair.', \"Teeth sensitive to the sand\\nin salad greens--\\n    I'm getting old.\", 'bush-clover flowers -\\nthey sway but do not drop\\ntheir beads of dew', 'As they begin to rise again\\nChrysanthemums faintly smell,\\nAfter the flooding rain', 'Moonlight slanting\\nthrough the bamboo grove;\\n    a cuckoo crying.', 'The morning glory also\\nturns out\\n    not to be my friend.', 'A man, infirm\\nWith age, slowly sucks\\nA fish bone.', \"The squid seller's call\\nmingles with the voice\\n    of the cuckoo.\", \"The dragonfly\\ncan't quite land\\n    on that blade of grass.\", 'How admirable!\\nto see lightning and not think\\n    life is fleeting.', \"Spring rain\\nleaking through the roof\\n    dripping from the wasps' nest.\", 'a cuckoo cries\\nand through a thicket of bamboo\\nthe late moon shines', 'Fleas, lice,\\na horse peeing\\n    near my pillow.', 'First winter rain--\\neven the monkey\\n    seems to want a raincoat.', 'A wild sea-\\nIn the distance over Sado\\nThe Milky Way', 'The oak tree:\\nnot interested\\n    in cherry blossoms.', \"Stillness--\\nthe cicada's cry\\n    drills into the rocks.\", \"What fish feel,\\nbirds feel, I don't know--\\n    the year ending.\", \"you make the fire\\nand I'll show you something wonderful:\\na big ball of snow!\", 'Bush warbler:\\nshits on the rice cakes\\n    on the porch rail.', 'Coolness of the melons\\nflecked with mud\\n    in the morning dew.', 'Cold night: the wild duck,\\nsick, falls from the sky\\n    and sleeps awhile.', 'Blowing stones\\nalong the road on Mount Asama,\\n    the autumn wind.', 'a strange flower\\nfor birds and butterflies\\nthe autumn sky', 'A cold rain starting\\nAnd no hat --\\nSo?', 'A field of cotton--\\nas if the moon\\n    had flowered.', 'Chilling autumn rains \\ncurtain Mount Fuji, then make it \\nmore beautiful to see', 'At a hermitage:\\n    A cool fall night--\\ngetting dinner, we peeled\\n    eggplants, cucumbers.', 'First snow\\nfalling\\n    on the half-finished bridge.', 'A weathered skeleton \\nin windy fields of memory, \\npiercing like a knife', 'Winter solitude--\\nin a world of one color\\n    the sound of wind.', 'Spring: \\nA hill without a name \\nVeiled in morning mist.', 'The beginning of autumn: \\nSea and emerald paddy \\nBoth the same green.', 'The winds of autumn \\nBlow: yet still green \\nThe chestnut husks.', \"A flash of lightning: \\nInto the gloom \\nGoes the heron's cry.\", 'Bitter-tasting ice - \\nJust enough to wet the throat \\nOf a sewer rat.', 'First day of spring--\\nI keep thinking about\\n    the end of autumn.', 'Sick on my journey, \\nonly my dreams will wander \\nthese desolate moors', 'A cicada shell;\\nit sang itself\\n    utterly away.', 'Awake at night--\\nthe sound of the water jar\\n    cracking in the cold.', \"old pond.....\\na frog leaps in\\nwater's sound\", \"Don't imitate me;\\nit's as boring\\n    as the two halves of a melon.\", 'A caterpillar,\\nthis deep in fall--\\n    still not a butterfly.', \"A monk sips morning tea,\\nit's quiet,\\n    the chrysanthemum's flowering.\", 'Waking in the night; \\nthe lamp is low, \\nthe oil freezing.', 'It has rained enough \\nto turn the stubble on the field \\nblack.', 'Winter rain \\nfalls on the cow-shed; \\na cock crows.', 'The leeks \\nnewly washed white,- \\nhow cold it is!', 'The sea darkens; \\nthe voices of the wild ducks \\nare faintly white.', 'Ill on a journey; \\nmy dreams wander \\nover a withered moor.', 'Autumn moonlight--\\n  a worm digs silently\\n    into the chestnut.', 'A snowy morning--\\nby myself,\\n    chewing on dried salmon.'], 'Now the swinging bridge\\nis quieted with creepers\\nlike our tendrilled life', 'By the old temple,\\npeach blossoms;\\na man treading rice.', 'All the day long-\\nyet not long enough for the skylark,\\nsinging, singing.', 'Cedar umbrellas, off\\nto Mount Yoshimo for\\nthe cherry blossoms.', 'Temple bells die out.\\nThe fragrant blossoms remain.\\nA perfect evening!', 'Flower\\nunder harvest sun - stranger\\nTo bird, butterfly.', 'With a warbler for \\na soul, it sleeps peacefully, \\nthis mountain willo', \"souls' festival\\ntoday also there is smoke\\nfrom the crematory\", \"The shallows -\\na crane's thighs splashed\\nin cool waves\", 'the whole family\\nall with white hair and canes\\nvisiting graves', \"Won't you come and see\\nloneliness? Just one leaf\\nfrom the kiri tree.\", 'The she cat -\\nGrown thin\\nFrom love and barley.', 'the warbler sings\\namong new shoots of bamboo\\nof coming old age', \"On the white poppy,\\na butterfly's torn wing\\nis a keepsake\", 'Tremble, oh my gravemound, \\nin time my cries will be \\nonly this autumn wind', 'Scarecrow in the hillock\\nPaddy field --\\nHow unaware! How useful.', 'Sleep on horseback,\\nThe far moon in a continuing dream,\\nSteam of roasting tea.', 'This first fallen snow \\nis barely enough to bend \\nthe jonquil leaves', 'Wrapping dumplings in \\nbamboo leaves, with one finger \\nshe tidies her hair', 'Eaten alive by\\nlice and fleas -- now the horse\\nbeside my pillow pees', 'The winter leeks\\nHave been washed white --\\nHow cold it is!', 'Behind this door\\nNow buried in deep grass\\nA different generation will celebrate\\nThe Festival of Dolls.', 'The clouds come and go, \\nproviding a rest for all \\nthe moon viewers', 'The petals tremble\\non the yellow mountain rose -\\nroar of the rapids', \"On Buddha's deathday, \\nwrinkled tough old hands pray - \\nthe prayer beads' sound\", 'From time to time\\nThe clouds give rest\\nTo the moon beholders..', 'The winter storm\\nHid in the bamboo grove\\nAnd quieted away.', 'The summer grasses\\nAll that remains\\nOf brave soldiers dreams', 'With every gust of wind,\\nthe butterfly changes its place\\non the willow.', 'How wild the sea is, \\nand over Sado Island, \\nthe River of Heaven', 'husking rice\\na child squints up\\nto view the moon', 'Petals of the mountain rose\\nFall now and then,\\nTo the sound of the waterfall?', 'On the cow shed\\nA hard winter rain;\\nCock crowing.', 'Crossing long fields,\\nfrozen in its saddle,\\nmy shadow creeps by', 'shaking the grave\\nmy weeping voice\\nautumn wind', 'under my tree-roof\\nslanting lines of april rain\\nseparate to drops', \"Year's end, all \\ncorners of this \\nfloating world, swept.\", 'The morning glories \\nbloom, securing the gate \\nin the old fence', 'The first snow\\nthe leaves of the daffodil\\nbending together', \"Passing through the world\\nIndeed this is just\\nSogi's rain shelter\", 'Even that old horse\\nis something to see this\\nsnow-covered morning', 'Long conversations \\nbeside blooming irises - \\njoys of life on the road', \"The butterfly is perfuming\\nIt's wings in the scent\\nOf the orchid.\", \"On New Year's Day \\neach thought a loneliness\\nas winter dusk descends\", \"Ungraciously, under \\na great soldier's empty helmet, \\na cricket sings\", 'The passing spring\\nBirds mourn,\\nFishes weep\\nWith tearful eyes.', 'I like to wash,\\nthe dust of this world\\nIn the droplets of dew.', 'Morning and evening\\nSomeone waits at Matsushima!\\nOne-sided love', 'The banana tree \\nblown by winds pours raindrops \\ninto the bucket', 'On this road\\nwhere nobody else travels\\nautumn nightfall', 'Winter seclusion - \\nsitting propped against \\nthe same worn post', \"I'm a wanderer \\nso let that be my name - \\nthe first winter rain\", 'It is with awe\\nThat I beheld\\nFresh leaves, green leaves,\\nBright in the sun.', 'Deep into autumn\\nand this caterpillar\\nstill not a butterfly', 'Winter downpour - \\neven the monkey \\nneeds a raincoat.', 'Cold as it was\\nWe felt secure sleeping together\\nIn the same room.', 'Clouds -\\na chance to dodge\\nmoonviewing.', 'But for a woodpecker \\ntapping at a post, no sound \\nat all in the house', 'scent of plum blossoms\\non the misty mountain path\\na big rising sun', 'None is travelling\\nHere along this way but I,\\nThis autumn evening.', 'The first day of the year:\\nthoughts come - and there is loneliness;\\nthe autumn dusk is here.', 'An old pond\\nA frog jumps in -\\nSplash!', \"Lightening -\\nHeron's cry\\nStabs the darkness\", 'Clouds come from time to time -\\nand bring to men a chance to rest\\nfrom looking at the moon.', \"In the cicada's cry\\nThere's no sign that can foretell\\nHow soon it must die.\", \"Poverty's child -\\nhe starts to grind the rice,\\nand gazes at the moon.\", \"Won't you come and see\\nloneliness? Just one leaf\\nfrom the kiri tree.\", 'Temple bells die out.\\nThe fragrant blossoms remain.\\nA perfect evening!', 'This old village--\\nnot a single house\\n    without persimmon trees.', 'Staying at an inn\\nwhere prostitutes are also sleeping--\\n    bush clover and the moon.', 'Taking a nap,\\nfeet planted\\n    against a cool wall.', \"When the winter chrysanthemums go,\\nthere's nothing to write about\\n    but radishes.\", 'Winter garden,\\nthe moon thinned to a thread,\\n    insects singing.', 'Midfield,\\nattached to nothing,\\n    the skylark singing.', 'Heat waves shimmering\\none or two inches\\n    above the dead grass.', 'Wrapping the rice cakes,\\nwith one hand\\n    she fingers back her hair.', \"Teeth sensitive to the sand\\nin salad greens--\\n    I'm getting old.\", 'bush-clover flowers -\\nthey sway but do not drop\\ntheir beads of dew', 'As they begin to rise again\\nChrysanthemums faintly smell,\\nAfter the flooding rain', 'Moonlight slanting\\nthrough the bamboo grove;\\n    a cuckoo crying.', 'The morning glory also\\nturns out\\n    not to be my friend.', 'A man, infirm\\nWith age, slowly sucks\\nA fish bone.', \"The squid seller's call\\nmingles with the voice\\n    of the cuckoo.\", \"The dragonfly\\ncan't quite land\\n    on that blade of grass.\", 'How admirable!\\nto see lightning and not think\\n    life is fleeting.', \"Spring rain\\nleaking through the roof\\n    dripping from the wasps' nest.\", 'a cuckoo cries\\nand through a thicket of bamboo\\nthe late moon shines', 'Fleas, lice,\\na horse peeing\\n    near my pillow.', 'First winter rain--\\neven the monkey\\n    seems to want a raincoat.', 'A wild sea-\\nIn the distance over Sado\\nThe Milky Way', 'The oak tree:\\nnot interested\\n    in cherry blossoms.', \"Stillness--\\nthe cicada's cry\\n    drills into the rocks.\", \"What fish feel,\\nbirds feel, I don't know--\\n    the year ending.\", \"you make the fire\\nand I'll show you something wonderful:\\na big ball of snow!\", 'Bush warbler:\\nshits on the rice cakes\\n    on the porch rail.', 'Coolness of the melons\\nflecked with mud\\n    in the morning dew.', 'Cold night: the wild duck,\\nsick, falls from the sky\\n    and sleeps awhile.', 'Blowing stones\\nalong the road on Mount Asama,\\n    the autumn wind.', 'a strange flower\\nfor birds and butterflies\\nthe autumn sky', 'A cold rain starting\\nAnd no hat --\\nSo?', 'A field of cotton--\\nas if the moon\\n    had flowered.', 'Chilling autumn rains \\ncurtain Mount Fuji, then make it \\nmore beautiful to see', 'At a hermitage:\\n    A cool fall night--\\ngetting dinner, we peeled\\n    eggplants, cucumbers.', 'First snow\\nfalling\\n    on the half-finished bridge.', 'A weathered skeleton \\nin windy fields of memory, \\npiercing like a knife', 'Winter solitude--\\nin a world of one color\\n    the sound of wind.', 'Spring: \\nA hill without a name \\nVeiled in morning mist.', 'The beginning of autumn: \\nSea and emerald paddy \\nBoth the same green.', 'The winds of autumn \\nBlow: yet still green \\nThe chestnut husks.', \"A flash of lightning: \\nInto the gloom \\nGoes the heron's cry.\", 'Bitter-tasting ice - \\nJust enough to wet the throat \\nOf a sewer rat.', 'First day of spring--\\nI keep thinking about\\n    the end of autumn.', 'Sick on my journey, \\nonly my dreams will wander \\nthese desolate moors', 'A cicada shell;\\nit sang itself\\n    utterly away.', 'Awake at night--\\nthe sound of the water jar\\n    cracking in the cold.', \"old pond.....\\na frog leaps in\\nwater's sound\", \"Don't imitate me;\\nit's as boring\\n    as the two halves of a melon.\", 'A caterpillar,\\nthis deep in fall--\\n    still not a butterfly.', \"A monk sips morning tea,\\nit's quiet,\\n    the chrysanthemum's flowering.\", 'Waking in the night; \\nthe lamp is low, \\nthe oil freezing.', 'It has rained enough \\nto turn the stubble on the field \\nblack.', 'Winter rain \\nfalls on the cow-shed; \\na cock crows.', 'The leeks \\nnewly washed white,- \\nhow cold it is!', 'The sea darkens; \\nthe voices of the wild ducks \\nare faintly white.', 'Ill on a journey; \\nmy dreams wander \\nover a withered moor.', 'Autumn moonlight--\\n  a worm digs silently\\n    into the chestnut.', 'A snowy morning--\\nby myself,\\n    chewing on dried salmon.']\n"
     ]
    }
   ],
   "source": [
    "print(bas['haikus'] )"
   ]
  },
  {
   "cell_type": "code",
   "execution_count": null,
   "metadata": {},
   "outputs": [],
   "source": []
  }
 ],
 "metadata": {
  "kernelspec": {
   "display_name": "Python 3",
   "language": "python",
   "name": "python3"
  },
  "language_info": {
   "codemirror_mode": {
    "name": "ipython",
    "version": 3
   },
   "file_extension": ".py",
   "mimetype": "text/x-python",
   "name": "python",
   "nbconvert_exporter": "python",
   "pygments_lexer": "ipython3",
   "version": "3.7.0"
  },
  "toc": {
   "base_numbering": 1,
   "nav_menu": {},
   "number_sections": true,
   "sideBar": true,
   "skip_h1_title": false,
   "title_cell": "Table of Contents",
   "title_sidebar": "Contents",
   "toc_cell": false,
   "toc_position": {},
   "toc_section_display": true,
   "toc_window_display": false
  }
 },
 "nbformat": 4,
 "nbformat_minor": 2
}
