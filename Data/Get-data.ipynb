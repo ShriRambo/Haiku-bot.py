{
 "cells": [
  {
   "cell_type": "markdown",
   "metadata": {},
   "source": [
    "# Web Scraping to get Matsuo Basho's Haikus"
   ]
  },
  {
   "cell_type": "markdown",
   "metadata": {},
   "source": [
    "## Initial Imports"
   ]
  },
  {
   "cell_type": "code",
   "execution_count": 1,
   "metadata": {},
   "outputs": [],
   "source": [
    "import requests\n",
    "import urllib.request\n",
    "import time\n",
    "from bs4 import BeautifulSoup\n",
    "import re\n",
    "import json"
   ]
  },
  {
   "cell_type": "markdown",
   "metadata": {},
   "source": [
    "## Getting 114 Haikus of Matsuo Basho from www.poemhunter.com"
   ]
  },
  {
   "cell_type": "code",
   "execution_count": null,
   "metadata": {},
   "outputs": [],
   "source": []
  },
  {
   "cell_type": "code",
   "execution_count": 2,
   "metadata": {},
   "outputs": [],
   "source": [
    "# Getting titles and links to those poems\n",
    "domain =  'https://www.poemhunter.com'\n",
    "ppages = '/matsuo-basho/poems/page-{}/?a=a&l=3&y='\n",
    "Titles = []\n",
    "links = []\n",
    "\n",
    "for i in range(1,4):\n",
    "    url = domain + ppages.format(i)\n",
    "    response = requests.get(url)\n",
    "    soup = BeautifulSoup(response.text, \"html.parser\")\n",
    "    \n",
    "    alist = soup.findAll('table',{\"class\": \"poems\"})[0].findAll('a')\n",
    "    for a in alist:\n",
    "        Titles.append(a.contents[0] )\n",
    "        links.append(a[\"href\"])"
   ]
  },
  {
   "cell_type": "code",
   "execution_count": 3,
   "metadata": {},
   "outputs": [],
   "source": [
    "#Getting poems\n",
    "Poems = []\n",
    "\n",
    "for link in links:\n",
    "    url = domain + link\n",
    "    response = requests.get(url)\n",
    "    soup = BeautifulSoup(response.text, \"html.parser\")\n",
    "    poem_ = soup.findAll('div', {\"class\":\"KonaBody\"})[0].findAll('p')[0]\n",
    "    \n",
    "    for br in poem_.find_all(\"br\"):\n",
    "        br.replace_with(\"\\n\")\n",
    "    poem = poem_.text\n",
    "    Poems.append(poem)"
   ]
  },
  {
   "cell_type": "code",
   "execution_count": 4,
   "metadata": {},
   "outputs": [],
   "source": [
    "# Processing titles\n",
    "\n",
    "# Removing weird characters\n",
    "for i in range(0,len(Titles)):\n",
    "    Titles[i] = Titles[i].strip().replace('â\\x80\\x99','\\'').replace('â\\x80\\x93','-').replace('â\\x80\\x94','-')"
   ]
  },
  {
   "cell_type": "code",
   "execution_count": 5,
   "metadata": {},
   "outputs": [],
   "source": [
    "# Processing poems\n",
    "\n",
    "# Removing weird characters\n",
    "# and translated by lines\n",
    "for i in range(0,len(Poems)):\n",
    "    Poems[i] = re.sub(\"Translated.*?($|\\n)\",\"\",Poems[i])\n",
    "    Poems[i] = Poems[i].strip().replace('â\\x80\\x99','\\'').replace('â\\x80\\x93','-').replace('â\\x80\\x94','-')"
   ]
  },
  {
   "cell_type": "code",
   "execution_count": 6,
   "metadata": {},
   "outputs": [],
   "source": [
    "id = -1"
   ]
  },
  {
   "cell_type": "code",
   "execution_count": 79,
   "metadata": {
    "scrolled": false
   },
   "outputs": [
    {
     "name": "stdout",
     "output_type": "stream",
     "text": [
      "72 )  The Morning Glory Also :-\n",
      "\n",
      " The morning glory also\n",
      "turns out\n",
      "    not to be my friend.\n"
     ]
    }
   ],
   "source": [
    "# Viewing poems\n",
    "id = id + 1\n",
    "print(id,') ',Titles[id],':-\\n\\n',Poems[id])\n"
   ]
  },
  {
   "cell_type": "code",
   "execution_count": 81,
   "metadata": {},
   "outputs": [],
   "source": [
    "# Saving in file for further editing\n",
    "file = open(\"Haikus.txt\",\"w\")\n",
    "for i,poem in enumerate(Poems):\n",
    "    title = '{}\\n'.format(i) # + Titles[i] + '\\n'\n",
    "    file.write(title+poem+'\\n\\n')\n",
    "file.close()"
   ]
  },
  {
   "cell_type": "code",
   "execution_count": null,
   "metadata": {},
   "outputs": [],
   "source": []
  },
  {
   "cell_type": "markdown",
   "metadata": {},
   "source": [
    "## After editing the text file manually"
   ]
  },
  {
   "cell_type": "code",
   "execution_count": 86,
   "metadata": {},
   "outputs": [],
   "source": [
    "file = open(\"Matsuo Basho's Haikus.txt\",'r')"
   ]
  },
  {
   "cell_type": "code",
   "execution_count": 87,
   "metadata": {},
   "outputs": [],
   "source": [
    "haiku = ''\n",
    "Haikus = []\n",
    "for line in file:\n",
    "    haiku = haiku + line\n",
    "    if line == '\\n':\n",
    "        Haikus.append(haiku)\n",
    "        haiku = ''"
   ]
  },
  {
   "cell_type": "code",
   "execution_count": 94,
   "metadata": {},
   "outputs": [
    {
     "data": {
      "text/plain": [
       "127"
      ]
     },
     "execution_count": 94,
     "metadata": {},
     "output_type": "execute_result"
    }
   ],
   "source": [
    "len(Haikus)"
   ]
  },
  {
   "cell_type": "code",
   "execution_count": 95,
   "metadata": {},
   "outputs": [],
   "source": [
    "data = {}\n",
    "data[\"author\"] = \"Matsuo Basho\"\n",
    "data[\"Poems\"] = Haikus"
   ]
  },
  {
   "cell_type": "code",
   "execution_count": 102,
   "metadata": {},
   "outputs": [],
   "source": [
    "file = open(\"Matsuo Basho's Haikus.json\",'w')\n",
    "json.dump(data,file)\n",
    "file.close()"
   ]
  },
  {
   "cell_type": "code",
   "execution_count": null,
   "metadata": {},
   "outputs": [],
   "source": []
  }
 ],
 "metadata": {
  "kernelspec": {
   "display_name": "Python 3",
   "language": "python",
   "name": "python3"
  },
  "language_info": {
   "codemirror_mode": {
    "name": "ipython",
    "version": 3
   },
   "file_extension": ".py",
   "mimetype": "text/x-python",
   "name": "python",
   "nbconvert_exporter": "python",
   "pygments_lexer": "ipython3",
   "version": "3.7.0"
  },
  "toc": {
   "base_numbering": 1,
   "nav_menu": {},
   "number_sections": true,
   "sideBar": true,
   "skip_h1_title": false,
   "title_cell": "Table of Contents",
   "title_sidebar": "Contents",
   "toc_cell": false,
   "toc_position": {},
   "toc_section_display": true,
   "toc_window_display": false
  }
 },
 "nbformat": 4,
 "nbformat_minor": 2
}
