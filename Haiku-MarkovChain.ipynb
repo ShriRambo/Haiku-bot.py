{
 "cells": [
  {
   "cell_type": "markdown",
   "metadata": {},
   "source": [
    "# Initial imports"
   ]
  },
  {
   "cell_type": "code",
   "execution_count": 2,
   "metadata": {},
   "outputs": [],
   "source": [
    "import numpy as np\n",
    "import re\n",
    "import json"
   ]
  },
  {
   "cell_type": "markdown",
   "metadata": {},
   "source": [
    "# Reading Data"
   ]
  },
  {
   "cell_type": "code",
   "execution_count": 3,
   "metadata": {},
   "outputs": [],
   "source": [
    "file = open(\"./Data/HaikuDB.json\",'r')"
   ]
  },
  {
   "cell_type": "code",
   "execution_count": 4,
   "metadata": {},
   "outputs": [],
   "source": [
    "data = json.load(file)"
   ]
  },
  {
   "cell_type": "code",
   "execution_count": 9,
   "metadata": {},
   "outputs": [],
   "source": [
    "allPoems = []\n",
    "for dat in data['Data']:\n",
    "    allPoems += dat['haikus']"
   ]
  },
  {
   "cell_type": "code",
   "execution_count": 11,
   "metadata": {},
   "outputs": [
    {
     "data": {
      "text/plain": [
       "245"
      ]
     },
     "execution_count": 11,
     "metadata": {},
     "output_type": "execute_result"
    }
   ],
   "source": [
    "len(allPoems)"
   ]
  },
  {
   "cell_type": "markdown",
   "metadata": {
    "heading_collapsed": true
   },
   "source": [
    "# Markov Chain 1:\n",
    "Learning probabilities letter by letter. Each poem is a different text sample"
   ]
  },
  {
   "cell_type": "markdown",
   "metadata": {
    "hidden": true
   },
   "source": [
    "## Learning probs"
   ]
  },
  {
   "cell_type": "code",
   "execution_count": 12,
   "metadata": {
    "code_folding": [],
    "hidden": true
   },
   "outputs": [],
   "source": [
    "probs = {}\n",
    "Inits = []\n",
    "order = 5\n",
    "for poem in allPoems:\n",
    "    n = len(poem)\n",
    "    Inits.extend([poem[0:order]])\n",
    "    for i in range(0,n-order):\n",
    "        ngram = poem[i:i+order];\n",
    "        nchar = poem[i+order];\n",
    "        try:\n",
    "            probs[ngram] += nchar\n",
    "        except KeyError:\n",
    "            probs[ngram] = nchar"
   ]
  },
  {
   "cell_type": "markdown",
   "metadata": {
    "hidden": true
   },
   "source": [
    "## Generating a Haiku"
   ]
  },
  {
   "cell_type": "markdown",
   "metadata": {
    "hidden": true
   },
   "source": [
    "### Trial 1"
   ]
  },
  {
   "cell_type": "code",
   "execution_count": 13,
   "metadata": {
    "hidden": true
   },
   "outputs": [],
   "source": [
    "def getHaiku():\n",
    "    ngram = np.random.choice(Inits)\n",
    "    poem = ngram\n",
    "    nchar = 200\n",
    "    \n",
    "    for i in range(0,nchar):\n",
    "        try:\n",
    "            ch = np.random.choice(list(probs[ngram]))\n",
    "        except KeyError:\n",
    "            continue\n",
    "        else:\n",
    "            poem = poem + ch\n",
    "            ngram = poem[-order:]\n",
    "        \n",
    "    return poem"
   ]
  },
  {
   "cell_type": "code",
   "execution_count": 24,
   "metadata": {
    "hidden": true
   },
   "outputs": [
    {
     "name": "stdout",
     "output_type": "stream",
     "text": [
      "Bush warbler for fat fishes\n",
      "Cold pond... \n",
      "Good! The sea dark lonelines of lightning clear,\n",
      "So fresh-\n",
      "pulled turnip farmer rose\n",
      "and I'll shells ..\n",
      "Bush-clover petals tremble\n",
      "on the mountain-top jewels\n"
     ]
    }
   ],
   "source": [
    "print(getHaiku())"
   ]
  },
  {
   "cell_type": "code",
   "execution_count": null,
   "metadata": {
    "hidden": true
   },
   "outputs": [],
   "source": []
  },
  {
   "cell_type": "markdown",
   "metadata": {
    "heading_collapsed": true
   },
   "source": [
    "# Markov Chain 2:\n",
    "Learning as a whole"
   ]
  },
  {
   "cell_type": "markdown",
   "metadata": {
    "hidden": true
   },
   "source": [
    "## Learning probs"
   ]
  },
  {
   "cell_type": "code",
   "execution_count": 28,
   "metadata": {
    "code_folding": [],
    "hidden": true
   },
   "outputs": [],
   "source": [
    "probs = {}\n",
    "allPoem = ''.join( allPoems)\n",
    "order = 5\n",
    "Inits = [ poem[0:order] for poem in allPoems]\n",
    "n = len(allPoem)\n",
    "for i in range(0,n-order):\n",
    "    ngram = allPoem[i:i+order];\n",
    "    nchar = allPoem[i+order];\n",
    "    try:\n",
    "        probs[ngram] += nchar\n",
    "    except KeyError:\n",
    "        probs[ngram] = nchar"
   ]
  },
  {
   "cell_type": "code",
   "execution_count": null,
   "metadata": {
    "hidden": true
   },
   "outputs": [],
   "source": []
  },
  {
   "cell_type": "markdown",
   "metadata": {
    "hidden": true
   },
   "source": [
    "## Generating Haiku"
   ]
  },
  {
   "cell_type": "code",
   "execution_count": 30,
   "metadata": {
    "hidden": true
   },
   "outputs": [],
   "source": [
    "def getHaiku():\n",
    "    ngram = np.random.choice(Inits)\n",
    "    poem = ngram\n",
    "    nchar = 200\n",
    "    \n",
    "    for i in range(0,nchar):\n",
    "        try:\n",
    "            ch = np.random.choice(list(probs[ngram]))\n",
    "        except KeyError:\n",
    "            continue\n",
    "        else:\n",
    "            poem = poem + ch\n",
    "            ngram = poem[-order:]\n",
    "        \n",
    "    return poem"
   ]
  },
  {
   "cell_type": "code",
   "execution_count": 31,
   "metadata": {
    "hidden": true
   },
   "outputs": [
    {
     "name": "stdout",
     "output_type": "stream",
     "text": [
      "the white poppy,\n",
      "a butterfly.A monkey\n",
      "    as thighs splashed white chrysanthemums faintly white chrysanthemum... \n",
      "The Festival\n",
      "today also sleeping--\n",
      "I keep thinned tough to bend\n",
      "the voice\n",
      "autumn wings and \n"
     ]
    }
   ],
   "source": [
    "print(getHaiku())"
   ]
  },
  {
   "cell_type": "code",
   "execution_count": null,
   "metadata": {
    "hidden": true
   },
   "outputs": [],
   "source": []
  }
 ],
 "metadata": {
  "kernelspec": {
   "display_name": "Python 3",
   "language": "python",
   "name": "python3"
  },
  "language_info": {
   "codemirror_mode": {
    "name": "ipython",
    "version": 3
   },
   "file_extension": ".py",
   "mimetype": "text/x-python",
   "name": "python",
   "nbconvert_exporter": "python",
   "pygments_lexer": "ipython3",
   "version": "3.7.0"
  },
  "toc": {
   "base_numbering": 1,
   "nav_menu": {
    "height": "151px",
    "width": "194px"
   },
   "number_sections": true,
   "sideBar": true,
   "skip_h1_title": false,
   "title_cell": "Table of Contents",
   "title_sidebar": "Contents",
   "toc_cell": false,
   "toc_position": {
    "height": "calc(100% - 180px)",
    "left": "10px",
    "top": "150px",
    "width": "273.188px"
   },
   "toc_section_display": true,
   "toc_window_display": true
  }
 },
 "nbformat": 4,
 "nbformat_minor": 2
}
