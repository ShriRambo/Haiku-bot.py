{
 "cells": [
  {
   "cell_type": "markdown",
   "metadata": {},
   "source": [
    "# Initial imports"
   ]
  },
  {
   "cell_type": "code",
   "execution_count": 1,
   "metadata": {},
   "outputs": [],
   "source": [
    "import numpy as np\n",
    "import re\n",
    "import json"
   ]
  },
  {
   "cell_type": "markdown",
   "metadata": {},
   "source": [
    "# Reading Data"
   ]
  },
  {
   "cell_type": "code",
   "execution_count": 8,
   "metadata": {},
   "outputs": [],
   "source": [
    "file = open(\"./Data/HaikuDB.json\",'r')"
   ]
  },
  {
   "cell_type": "code",
   "execution_count": 9,
   "metadata": {},
   "outputs": [],
   "source": [
    "data = json.load(file)"
   ]
  },
  {
   "cell_type": "code",
   "execution_count": 10,
   "metadata": {},
   "outputs": [],
   "source": [
    "allPoems = []\n",
    "for dat in data['Data']:\n",
    "    allPoems += dat['haikus']"
   ]
  },
  {
   "cell_type": "code",
   "execution_count": 11,
   "metadata": {},
   "outputs": [
    {
     "data": {
      "text/plain": [
       "245"
      ]
     },
     "execution_count": 11,
     "metadata": {},
     "output_type": "execute_result"
    }
   ],
   "source": [
    "len(allPoems)"
   ]
  },
  {
   "cell_type": "markdown",
   "metadata": {},
   "source": [
    "#  Hidden markov model\n",
    "\n",
    "Learning from the word tag"
   ]
  },
  {
   "cell_type": "code",
   "execution_count": 19,
   "metadata": {},
   "outputs": [],
   "source": [
    "import nltk"
   ]
  },
  {
   "cell_type": "code",
   "execution_count": 36,
   "metadata": {},
   "outputs": [],
   "source": [
    "poemsTkn = [   nltk.pos_tag( nltk.word_tokenize(poem.lower()))  for poem in allPoems ]"
   ]
  },
  {
   "cell_type": "code",
   "execution_count": 65,
   "metadata": {},
   "outputs": [],
   "source": [
    "tagWordProb = {}\n",
    "for poem in poemsTkn:\n",
    "    for word in poem:\n",
    "        try:\n",
    "            tagWordProb[word[1]] += [word[0]]\n",
    "        except KeyError:\n",
    "            tagWordProb[word[1]] = [word[0]]"
   ]
  },
  {
   "cell_type": "code",
   "execution_count": 57,
   "metadata": {},
   "outputs": [],
   "source": [
    "tagProb = {}\n",
    "initTags = []\n",
    "order = 1\n",
    "for poem in poemsTkn:\n",
    "    ngram = poem[0][1]\n",
    "    initTags += [ngram]\n",
    "    for word in poem[1:]:\n",
    "        try:\n",
    "            tagProb[ngram] += [word[1]]\n",
    "            ngram = word[1]\n",
    "        except KeyError:\n",
    "            tagProb[ngram] = [word[1]]\n",
    "            ngram = word[1]"
   ]
  },
  {
   "cell_type": "code",
   "execution_count": 61,
   "metadata": {},
   "outputs": [
    {
     "data": {
      "text/plain": [
       "dict_keys(['DT', 'JJ', 'NN', 'VBZ', ':', 'CC', 'VBP', 'VBG', 'IN', 'SYM', ',', 'TO', 'VB', '.', 'PRP$', 'VBN', 'RB', 'NNS', 'PRP', 'WP', 'VBD', 'JJS', 'RP', 'WP$', 'MD', 'RBR', 'WRB', 'WDT', 'UH', 'EX', 'POS', 'JJR', 'CD', 'PDT'])"
      ]
     },
     "execution_count": 61,
     "metadata": {},
     "output_type": "execute_result"
    }
   ],
   "source": [
    "tagProb.keys()"
   ]
  },
  {
   "cell_type": "markdown",
   "metadata": {},
   "source": [
    "# Generating a Haiku"
   ]
  },
  {
   "cell_type": "code",
   "execution_count": 75,
   "metadata": {},
   "outputs": [],
   "source": [
    "def getHaiku(N, seed=False ):\n",
    "    \n",
    "    if seed:\n",
    "        np.random.seed(seed);\n",
    "    hku = ''\n",
    "    \n",
    "    ngram = np.random.choice(initTags)\n",
    "    hku += np.random.choice( tagWordProb[ngram] ) + ' '\n",
    "    \n",
    "    for i in range(0,N):\n",
    "        ngram = np.random.choice(tagProb[ngram])\n",
    "        hku += np.random.choice( tagWordProb[ngram] ) + ' '\n",
    "   \n",
    "    return hku"
   ]
  },
  {
   "cell_type": "code",
   "execution_count": 118,
   "metadata": {},
   "outputs": [
    {
     "data": {
      "text/plain": [
       "'just we cry loneliness bright renter ... about blown fish dear ducks with all lady rider '"
      ]
     },
     "execution_count": 118,
     "metadata": {},
     "output_type": "execute_result"
    }
   ],
   "source": [
    "getHaiku(15)"
   ]
  },
  {
   "cell_type": "code",
   "execution_count": null,
   "metadata": {},
   "outputs": [],
   "source": []
  },
  {
   "cell_type": "code",
   "execution_count": null,
   "metadata": {},
   "outputs": [],
   "source": []
  }
 ],
 "metadata": {
  "kernelspec": {
   "display_name": "Python 3",
   "language": "python",
   "name": "python3"
  },
  "language_info": {
   "codemirror_mode": {
    "name": "ipython",
    "version": 3
   },
   "file_extension": ".py",
   "mimetype": "text/x-python",
   "name": "python",
   "nbconvert_exporter": "python",
   "pygments_lexer": "ipython3",
   "version": "3.7.0"
  },
  "toc": {
   "base_numbering": 1,
   "nav_menu": {
    "height": "151px",
    "width": "194px"
   },
   "number_sections": true,
   "sideBar": false,
   "skip_h1_title": false,
   "title_cell": "Table of Contents",
   "title_sidebar": "Contents",
   "toc_cell": false,
   "toc_position": {
    "height": "calc(100% - 180px)",
    "left": "10px",
    "top": "150px",
    "width": "165px"
   },
   "toc_section_display": true,
   "toc_window_display": false
  }
 },
 "nbformat": 4,
 "nbformat_minor": 2
}
